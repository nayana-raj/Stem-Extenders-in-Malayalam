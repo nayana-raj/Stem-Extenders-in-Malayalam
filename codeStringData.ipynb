{
 "cells": [
  {
   "cell_type": "code",
   "execution_count": 8,
   "metadata": {},
   "outputs": [],
   "source": [
    "import collections"
   ]
  },
  {
   "cell_type": "code",
   "execution_count": 57,
   "metadata": {},
   "outputs": [],
   "source": [
    "def typeA_dict(string):\n",
    "    '''\n",
    "    Input: A string of words\n",
    "    Output: A dictionary with keys as verb roots and values as Type-A stem extenders\n",
    "    '''\n",
    "    typeA_words = {} #dictionary with words as keys and extenders as values\n",
    "    for i in string.split():\n",
    "        if i[-1] == 'ു' and i[-8:-5] != 'ക്ക' and 'ുന്നു' not in i and 'ുകയാണു' not in i: #getting the Type-A past forms that end in -u, filtering out Type-B endings\n",
    "            stem = i[:-1] #stem is the word minus the past affix\n",
    "            extender = stem[-1] #extender is the last character in the stem \n",
    "            if extender == stem[-3] or stem[-3] == 'ന': #for geminates like ɲɲ or nn\n",
    "                extender =  stem[-3:]\n",
    "            #root is stem minus extender; the 1 arg removes the last occurence of the extender characater from the stem for words like 'തൊഴുതു' where 'ത' occurs twice \n",
    "            root = ''.join(stem.rsplit(extender, 1))\n",
    "            typeA_words[root] = extender\n",
    "        elif i.endswith('ിട്ടുണ്ട്'): #getting the Type-A perfective forms that end in -iʈʈunɖe\n",
    "            stem = i[:-9]\n",
    "            if stem[-1] == 'യ' or stem[-1] == 'വ': #filtering out epenthetic forms like /y/ or /v/ before /ittunde/\n",
    "                stem = stem[:-1]\n",
    "            extender = stem[-1]\n",
    "            if extender == stem[-3] or stem[-3] == 'ന': #for geminates\n",
    "                extender =  stem[-3:]\n",
    "            root = ''.join(stem.rsplit(extender, 1))\n",
    "            typeA_words[root] = extender\n",
    "    return typeA_words\n",
    "#Note: this dictionary does not allow duplicates, so if both 'ചെയ്തു' and 'ചെയ്തിട്ടുണ്ട്' exist, only one of them will \n",
    "#be added to the dictionary; this serves our purpose."
   ]
  },
  {
   "cell_type": "code",
   "execution_count": 58,
   "metadata": {},
   "outputs": [],
   "source": [
    "def typeB_dict(string):\n",
    "    '''\n",
    "    Input: A string of words\n",
    "    Output: A dictionary with keys as verb roots and values as Type-B stem extenders\n",
    "    '''\n",
    "    typeB_ending = ['ുന്നു', 'ും', ' ുക', 'ുകയാണു'] #list containing type-b forms\n",
    "    temp_list = [] #temporary list for raw type-B words\n",
    "    typeB_words ={} #dictionary with words as keys and extenders as values\n",
    "    for i in string.split():\n",
    "        temp_list.append([i for ending in typeB_ending if ending in i]) \n",
    "\n",
    "    temp_list = [x for x in temp_list if x != []] #to get rid of empty lists\n",
    "    temp_list = [item for sublist in temp_list for item in sublist] #to get rid of nested lists\n",
    " \n",
    "    for word in temp_list:\n",
    "        for ending in typeB_ending:\n",
    "            if word.endswith(ending):\n",
    "                stem = word.strip(ending) \n",
    "                if stem[-1] == 'യ' or stem[-1] == 'വ': #filtering out epenthetic forms like /j/ before /ittunde/\n",
    "                    stem = stem[:-1]\n",
    "        if stem.endswith('ക്ക'): #two kinds of type-B extenders, either kk or null\n",
    "            extender = 'ക്ക' \n",
    "        else:\n",
    "            extender = '0'\n",
    "        root = stem.rstrip(extender) \n",
    "        typeB_words[root] = extender\n",
    "    return typeB_words"
   ]
  },
  {
   "cell_type": "code",
   "execution_count": 59,
   "metadata": {},
   "outputs": [],
   "source": [
    "def sort_dict(dict):\n",
    "    '''\n",
    "    Input: Takes a unsorted dictionary\n",
    "    Output: Returns a sorted dictionary\n",
    "    '''\n",
    "    \n",
    "    temp_sorted = sorted(dict.items(), key=lambda kv: kv[1])\n",
    "    sorted_dict = collections.OrderedDict(temp_sorted)\n",
    "    return sorted_dict"
   ]
  },
  {
   "cell_type": "code",
   "execution_count": 64,
   "metadata": {},
   "outputs": [],
   "source": [
    "def match_items(typeA_words, typeB_words):\n",
    "    '''\n",
    "    Input: Takes two dictionaries\n",
    "    Output: Returns two dictionaries such that only the keys that are shared between the two are kept in both \n",
    "    '''\n",
    "    matchtypeA={}\n",
    "    matchtypeB={}\n",
    "    for key in typeA_words.keys() & typeB_words.keys(): #if root in both dictionaries\n",
    "        matchtypeA[key] = typeA_words[key]\n",
    "        matchtypeB[key] = typeB_words[key]\n",
    "    return(matchtypeA, matchtypeB)\n"
   ]
  },
  {
   "cell_type": "code",
   "execution_count": 63,
   "metadata": {},
   "outputs": [],
   "source": [
    "def score(typeA, typeB):\n",
    "    '''\n",
    "    Input: Takes two dictionaries with keys as stems and values as extenders\n",
    "    Output: Returns score equal to no. of groups of stems that share type-A extender and same type-B extender \n",
    "    divided by total number of groups\n",
    "    '''\n",
    "    grouped_ext = {} #dictionary with key as type-A extender and list of values as stems with that extender\n",
    "    for key, value in sorted(typeA.items()):\n",
    "        grouped_ext.setdefault(value, []).append(key)\n",
    "    groups = dict(grouped_ext)\n",
    "\n",
    "    extB_same = [] #list of type-B extenders for each group. For ex: for a group [cheyy, peyy], extB_same = [0,0]\n",
    "    match = 0\n",
    "    for val_group in groups.values():\n",
    "        extB_same = []\n",
    "        for val in val_group:\n",
    "            extB = typeB[val]\n",
    "            extB_same.append(extB)\n",
    "        if len(extB_same) > 1: #only if group of type-B extenders has more than one element\n",
    "            if any(ext == extB_same[0] for ext in extB_same): #if all elements in group of type-B extenders are equal\n",
    "                match += 1\n",
    "    return match"
   ]
  },
  {
   "cell_type": "code",
   "execution_count": 67,
   "metadata": {},
   "outputs": [
    {
     "name": "stdout",
     "output_type": "stream",
     "text": [
      "Lists of Type-A roots and extenders {'ചെയ്': 'ത', 'പെയ്': 'ത', 'ഇര': 'ന്ന', 'ഉപദേശി': 'ച്ച', 'പറ': 'ന്ന', 'നൊ': 'ന്ത', 'വെ': 'ന്ത', 'ചുമ': 'ന്ന', 'അട': 'ഞ്ഞ'}\n",
      "Lists of Type-B roots and extenders {'പറ': 'ക്ക', 'ചുമ': 'ക്ക', 'പെയ്': '0', 'ഉപദേശി': 'ക്ക', 'ഇര': 'ക്ക', 'ചെയ്': '0'}\n",
      "Score =  2\n"
     ]
    }
   ],
   "source": [
    "'''\n",
    "Input: A mixed string of verbs, both Type-A stems and Type-B stems;\n",
    "Items in string with hyphens marking root-extender-affix:\n",
    "string = 'cheyy-t̪-u, peyy-t̪-u, ira-nn-u, upadeʃi-ch-u, para-nn-u, no-nt̪-u, ve-nt̪-u, para-kk-unu, chuma-kk-unnu, \n",
    "peyy-unnu, chumma-nn-u, upadeʃi-kk-unnu, ira-kk-unnu, cheyy-t̪-iʈʈunɖe, cheyy-ukayaanu, ada-ɲɲ-iʈʈunɖe' \n",
    "'''\n",
    "string = 'ചെയ്തു പെയ്തു ഇരന്നു ഉപദേശിച്ചു പറന്നു നൊന്തു വെന്തു പറക്കുന്നു ചുമക്കുന്നു പെയ്യുന്നു ചുമന്നു ഉപദേശിക്കുന്നു ഇരക്കുന്നു ചുമക്കുന്നു ചെയ്തിട്ടുണ്ട് ചെയ്യുകയാണു അടഞ്ഞിട്ടുണ്ട്'\n",
    "\n",
    "typeA_words = typeA_dict(string)\n",
    "typeB_words = typeB_dict(string)\n",
    "matchtypeA, matchtypeB = match_items(typeA_words, typeB_words)\n",
    "typeA, typeB = sort_dict(matchtypeA), sort_dict(matchtypeB)\n",
    "print(\"List of Type-A roots and extenders\", typeA_words)\n",
    "print(\"List of Type-B roots and extenders\", typeB_words)\n",
    "print(\"Score = \" , score(typeA, typeB))"
   ]
  },
  {
   "cell_type": "code",
   "execution_count": null,
   "metadata": {},
   "outputs": [],
   "source": []
  }
 ],
 "metadata": {
  "kernelspec": {
   "display_name": "Python 3",
   "language": "python",
   "name": "python3"
  },
  "language_info": {
   "codemirror_mode": {
    "name": "ipython",
    "version": 3
   },
   "file_extension": ".py",
   "mimetype": "text/x-python",
   "name": "python",
   "nbconvert_exporter": "python",
   "pygments_lexer": "ipython3",
   "version": "3.7.4"
  }
 },
 "nbformat": 4,
 "nbformat_minor": 2
}
